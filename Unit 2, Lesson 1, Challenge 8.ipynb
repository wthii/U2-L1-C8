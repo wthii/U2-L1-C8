{
 "cells": [
  {
   "cell_type": "code",
   "execution_count": 125,
   "metadata": {
    "collapsed": true
   },
   "outputs": [],
   "source": [
    "import numpy as np\n",
    "import matplotlib.pyplot as plt\n",
    "import pandas as pd\n",
    "import seaborn as sns\n",
    "from scipy import stats\n",
    "import math\n",
    "from matplotlib.mlab import PCA as mlabPCA\n",
    "from sklearn.preprocessing import StandardScaler\n",
    "from sklearn.decomposition import PCA \n",
    "# %matplotlib inline\n",
    "sns.set_style(\"white\")"
   ]
  },
  {
   "cell_type": "code",
   "execution_count": 126,
   "metadata": {
    "collapsed": true
   },
   "outputs": [],
   "source": [
    "df = pd.read_csv('/Users/whaight/Downloads/DS/nfl_draft.csv')"
   ]
  },
  {
   "cell_type": "code",
   "execution_count": 127,
   "metadata": {
    "collapsed": false
   },
   "outputs": [
    {
     "name": "stdout",
     "output_type": "stream",
     "text": [
      "Index(['Player_Id', 'Year', 'Rnd', 'Pick', 'Tm', 'Player', 'Pos',\n",
      "       'Position Standard', 'First4AV', 'Age', 'To', 'AP1', 'PB', 'St',\n",
      "       'CarAV', 'DrAV', 'G', 'Cmp', 'Pass_Att', 'Pass_Yds', 'Pass_TD',\n",
      "       'Pass_Int', 'Rush_Att', 'Rush_Yds', 'Rush_TDs', 'Rec', 'Rec_Yds',\n",
      "       'Rec_Tds', 'Tkl', 'Def_Int', 'Sk', 'College/Univ', 'Unnamed: 32'],\n",
      "      dtype='object')\n"
     ]
    }
   ],
   "source": [
    "print( df.columns )"
   ]
  },
  {
   "cell_type": "code",
   "execution_count": 128,
   "metadata": {
    "collapsed": false
   },
   "outputs": [
    {
     "data": {
      "text/html": [
       "<div>\n",
       "<table border=\"1\" class=\"dataframe\">\n",
       "  <thead>\n",
       "    <tr style=\"text-align: right;\">\n",
       "      <th></th>\n",
       "      <th>Year</th>\n",
       "      <th>Pick</th>\n",
       "      <th>Tm</th>\n",
       "      <th>Position Standard</th>\n",
       "      <th>First4AV</th>\n",
       "      <th>Age</th>\n",
       "      <th>To</th>\n",
       "      <th>St</th>\n",
       "      <th>G</th>\n",
       "      <th>Cmp</th>\n",
       "      <th>...</th>\n",
       "      <th>Rush_Att</th>\n",
       "      <th>Rush_Yds</th>\n",
       "      <th>Rush_TDs</th>\n",
       "      <th>Rec</th>\n",
       "      <th>Rec_Yds</th>\n",
       "      <th>Rec_Tds</th>\n",
       "      <th>Tkl</th>\n",
       "      <th>Def_Int</th>\n",
       "      <th>Sk</th>\n",
       "      <th>College/Univ</th>\n",
       "    </tr>\n",
       "  </thead>\n",
       "  <tbody>\n",
       "    <tr>\n",
       "      <th>0</th>\n",
       "      <td>2015</td>\n",
       "      <td>1</td>\n",
       "      <td>TAM</td>\n",
       "      <td>QB</td>\n",
       "      <td>13</td>\n",
       "      <td>21.0</td>\n",
       "      <td>2016.0</td>\n",
       "      <td>2</td>\n",
       "      <td>26.0</td>\n",
       "      <td>540.0</td>\n",
       "      <td>...</td>\n",
       "      <td>86.0</td>\n",
       "      <td>311.0</td>\n",
       "      <td>7.0</td>\n",
       "      <td>0.0</td>\n",
       "      <td>0.0</td>\n",
       "      <td>0.0</td>\n",
       "      <td>0.0</td>\n",
       "      <td>0.0</td>\n",
       "      <td>0.0</td>\n",
       "      <td>Florida St.</td>\n",
       "    </tr>\n",
       "    <tr>\n",
       "      <th>1</th>\n",
       "      <td>2015</td>\n",
       "      <td>2</td>\n",
       "      <td>TEN</td>\n",
       "      <td>QB</td>\n",
       "      <td>9</td>\n",
       "      <td>21.0</td>\n",
       "      <td>2016.0</td>\n",
       "      <td>2</td>\n",
       "      <td>23.0</td>\n",
       "      <td>458.0</td>\n",
       "      <td>...</td>\n",
       "      <td>79.0</td>\n",
       "      <td>516.0</td>\n",
       "      <td>4.0</td>\n",
       "      <td>1.0</td>\n",
       "      <td>41.0</td>\n",
       "      <td>1.0</td>\n",
       "      <td>0.0</td>\n",
       "      <td>0.0</td>\n",
       "      <td>0.0</td>\n",
       "      <td>Oregon</td>\n",
       "    </tr>\n",
       "    <tr>\n",
       "      <th>2</th>\n",
       "      <td>2015</td>\n",
       "      <td>3</td>\n",
       "      <td>JAX</td>\n",
       "      <td>LB</td>\n",
       "      <td>0</td>\n",
       "      <td>21.0</td>\n",
       "      <td>2016.0</td>\n",
       "      <td>0</td>\n",
       "      <td>10.0</td>\n",
       "      <td>0.0</td>\n",
       "      <td>...</td>\n",
       "      <td>0.0</td>\n",
       "      <td>0.0</td>\n",
       "      <td>0.0</td>\n",
       "      <td>0.0</td>\n",
       "      <td>0.0</td>\n",
       "      <td>0.0</td>\n",
       "      <td>16.0</td>\n",
       "      <td>0.0</td>\n",
       "      <td>2.5</td>\n",
       "      <td>Florida</td>\n",
       "    </tr>\n",
       "    <tr>\n",
       "      <th>3</th>\n",
       "      <td>2015</td>\n",
       "      <td>4</td>\n",
       "      <td>OAK</td>\n",
       "      <td>WR</td>\n",
       "      <td>9</td>\n",
       "      <td>21.0</td>\n",
       "      <td>2016.0</td>\n",
       "      <td>1</td>\n",
       "      <td>26.0</td>\n",
       "      <td>0.0</td>\n",
       "      <td>...</td>\n",
       "      <td>3.0</td>\n",
       "      <td>-3.0</td>\n",
       "      <td>0.0</td>\n",
       "      <td>134.0</td>\n",
       "      <td>1970.0</td>\n",
       "      <td>9.0</td>\n",
       "      <td>0.0</td>\n",
       "      <td>0.0</td>\n",
       "      <td>0.0</td>\n",
       "      <td>Alabama</td>\n",
       "    </tr>\n",
       "    <tr>\n",
       "      <th>4</th>\n",
       "      <td>2015</td>\n",
       "      <td>5</td>\n",
       "      <td>WAS</td>\n",
       "      <td>T</td>\n",
       "      <td>7</td>\n",
       "      <td>23.0</td>\n",
       "      <td>2016.0</td>\n",
       "      <td>2</td>\n",
       "      <td>27.0</td>\n",
       "      <td>0.0</td>\n",
       "      <td>...</td>\n",
       "      <td>0.0</td>\n",
       "      <td>0.0</td>\n",
       "      <td>0.0</td>\n",
       "      <td>0.0</td>\n",
       "      <td>0.0</td>\n",
       "      <td>0.0</td>\n",
       "      <td>0.0</td>\n",
       "      <td>0.0</td>\n",
       "      <td>0.0</td>\n",
       "      <td>Iowa</td>\n",
       "    </tr>\n",
       "  </tbody>\n",
       "</table>\n",
       "<p>5 rows × 24 columns</p>\n",
       "</div>"
      ],
      "text/plain": [
       "   Year  Pick   Tm Position Standard  First4AV   Age      To  St     G    Cmp  \\\n",
       "0  2015     1  TAM                QB        13  21.0  2016.0   2  26.0  540.0   \n",
       "1  2015     2  TEN                QB         9  21.0  2016.0   2  23.0  458.0   \n",
       "2  2015     3  JAX                LB         0  21.0  2016.0   0  10.0    0.0   \n",
       "3  2015     4  OAK                WR         9  21.0  2016.0   1  26.0    0.0   \n",
       "4  2015     5  WAS                 T         7  23.0  2016.0   2  27.0    0.0   \n",
       "\n",
       "       ...       Rush_Att  Rush_Yds  Rush_TDs    Rec  Rec_Yds  Rec_Tds   Tkl  \\\n",
       "0      ...           86.0     311.0       7.0    0.0      0.0      0.0   0.0   \n",
       "1      ...           79.0     516.0       4.0    1.0     41.0      1.0   0.0   \n",
       "2      ...            0.0       0.0       0.0    0.0      0.0      0.0  16.0   \n",
       "3      ...            3.0      -3.0       0.0  134.0   1970.0      9.0   0.0   \n",
       "4      ...            0.0       0.0       0.0    0.0      0.0      0.0   0.0   \n",
       "\n",
       "   Def_Int   Sk  College/Univ  \n",
       "0      0.0  0.0   Florida St.  \n",
       "1      0.0  0.0        Oregon  \n",
       "2      0.0  2.5       Florida  \n",
       "3      0.0  0.0       Alabama  \n",
       "4      0.0  0.0          Iowa  \n",
       "\n",
       "[5 rows x 24 columns]"
      ]
     },
     "execution_count": 128,
     "metadata": {},
     "output_type": "execute_result"
    }
   ],
   "source": [
    "# df_young = df.loc[\n",
    "#     ((df['Year'] == 2013) | (df['Year'] == 2014) | (df['Year'] == 2015)),\n",
    "#     ['Player_Id', 'Year', 'Rnd', 'Pick', 'Tm', 'Position Standard', 'First4AV', 'Age', 'To', 'G', 'College/Univ']\n",
    "# ].dropna()\n",
    "\n",
    "df_young = df.loc[\n",
    "    ((df['Year'] == 2013) | (df['Year'] == 2014) | (df['Year'] == 2015)),\n",
    "    ['Year', 'Pick', 'Tm', 'Position Standard', 'First4AV', 'Age', 'To', 'St',\n",
    "       'G', 'Cmp', 'Pass_Att', 'Pass_Yds', 'Pass_TD',\n",
    "       'Pass_Int', 'Rush_Att', 'Rush_Yds', 'Rush_TDs', 'Rec', 'Rec_Yds',\n",
    "       'Rec_Tds', 'Tkl', 'Def_Int', 'Sk', 'College/Univ']\n",
    "    #['Year', 'Pick', 'First4AV', 'Age', 'To', 'G']\n",
    "]\n",
    "\n",
    "# Let's clean up this mess first:\n",
    "\n",
    "df_young['To'] = df_young['To'].fillna(2016)\n",
    "\n",
    "df_young['G'] = df_young['G'].fillna(0)\n",
    "df_young['Age'] = df_young['Age'].fillna(22)\n",
    "df_young['Pick'] = df_young['Pick'].fillna(100000)\n",
    "df_young['Cmp'] = df_young['Cmp'].fillna(0)\n",
    "df_young['Pass_Att'] = df_young['Pass_Att'].fillna(0)\n",
    "df_young['Pass_Yds'] = df_young['Pass_Yds'].fillna(0)\n",
    "df_young['Pass_TD'] = df_young['Pass_TD'].fillna(0)\n",
    "df_young['Pass_Int'] = df_young['Pass_Int'].fillna(0)\n",
    "df_young['Rush_Att'] = df_young['Rush_Att'].fillna(0)\n",
    "df_young['Rush_Yds'] = df_young['Rush_Yds'].fillna(0)\n",
    "df_young['Rush_TDs'] = df_young['Rush_TDs'].fillna(0)\n",
    "df_young['Rec'] = df_young['Rec'].fillna(0)\n",
    "df_young['Rec_Yds'] = df_young['Rec_Yds'].fillna(0)\n",
    "df_young['Rec_Tds'] = df_young['Rec_Tds'].fillna(0)\n",
    "df_young['Tkl'] = df_young['Tkl'].fillna(0)\n",
    "df_young['Def_Int'] = df_young['Def_Int'].fillna(0)\n",
    "\n",
    "df_young['Sk'] = df_young['Sk'].astype(float)\n",
    "\n",
    "# pd.to_numeric(df_young['Sk'], errors='raise')\n",
    "\n",
    "df_young['Sk'] = df_young['Sk'].fillna(0)\n",
    "\n",
    "# df_young['Cmp'].replace(np.nan, 0)\n",
    "# df_young['Pass_Att'].replace(np.nan, 0)\n",
    "# df_young['Pass_Yds'].replace(np.nan, 0)\n",
    "# df_young['Pass_TD'].replace(np.nan, 0)\n",
    "# df_young['Pass_Int'].replace(np.nan, 0)\n",
    "# df_young['Rush_Att'].replace(np.nan, 0)\n",
    "# df_young['Rush_Yds'].replace(np.nan, 0)\n",
    "# df_young['Rush_TDs'].replace(np.nan, 0)\n",
    "# df_young['Rec'].replace(np.nan, 0)\n",
    "# df_young['Rec_Yds'].replace(np.nan, 0)\n",
    "# df_young['Rec_Tds'].replace(np.nan, 0)\n",
    "# df_young['Tkl'].replace(np.nan, 0)\n",
    "# df_young['Def_Int'].replace(np.nan, 0)\n",
    "# df_young['Sk'].replace(np.nan, 0)\n",
    "\n",
    "df_young.head()\n",
    "\n",
    "# print(df['Player_Id', 'Year', 'Rnd', 'Pick', 'Tm', 'Position Standard', 'First4AV', 'Age', 'To', 'G', 'College/Univ'].dropna())"
   ]
  },
  {
   "cell_type": "code",
   "execution_count": 129,
   "metadata": {
    "collapsed": false
   },
   "outputs": [
    {
     "data": {
      "text/plain": [
       "array([  0. ,   2.5,   9. ,  13.5,   1.5,   4.5,   4. ,   8. ,   1. ,\n",
       "         5. ,   3. ,   2. ,  11.5,   6. ,  10. ,  10.5,   6.5,   0.5,\n",
       "         7.5,  27. ,   9.5,  25. ,   7. ,  15.5,   5.5,  13. ,  11. ,\n",
       "         3.5,   8.5,  30. ,  18. ,  19. ,  12.5,  14. ])"
      ]
     },
     "execution_count": 129,
     "metadata": {},
     "output_type": "execute_result"
    }
   ],
   "source": [
    "# # Making the random noise.\n",
    "# df_jittered = df_young\n",
    "# # del df_jittered['Player_Id']\n",
    "# df_jittered.head()\n",
    "\n",
    "df_young['Sk'].unique()"
   ]
  },
  {
   "cell_type": "code",
   "execution_count": 130,
   "metadata": {
    "collapsed": false
   },
   "outputs": [
    {
     "data": {
      "text/plain": [
       "array([ 26.,  23.,  10.,  27.,   4.,  25.,  21.,  24.,  22.,  15.,  18.,\n",
       "        19.,  14.,  20.,   0.,   9.,  12.,  11.,   8.,   1.,   2.,  13.,\n",
       "         7.,   6.,  17.,  16.,   3.,   5.,  42.,  40.,  31.,  41.,  37.,\n",
       "        35.,  32.,  29.,  43.,  39.,  33.,  36.,  34.,  30.,  38.,  28.,\n",
       "        56.,  48.,  54.,  53.,  44.,  52.,  47.,  57.,  55.,  58.,  59.,\n",
       "        46.,  45.,  51.,  50.,  49.])"
      ]
     },
     "execution_count": 130,
     "metadata": {},
     "output_type": "execute_result"
    }
   ],
   "source": [
    "# jitter = pd.DataFrame(\n",
    "#             np.random.uniform( -.49, .49, size = ( df_jittered.shape ) ), columns = df_jittered.columns )\n",
    "\n",
    "df_young['G'].unique()"
   ]
  },
  {
   "cell_type": "code",
   "execution_count": 131,
   "metadata": {
    "collapsed": false
   },
   "outputs": [],
   "source": [
    "# jitter.head()"
   ]
  },
  {
   "cell_type": "code",
   "execution_count": 132,
   "metadata": {
    "collapsed": true
   },
   "outputs": [],
   "source": [
    "# df_jittered = df_jittered.add(jitter)"
   ]
  },
  {
   "cell_type": "code",
   "execution_count": 133,
   "metadata": {
    "collapsed": false
   },
   "outputs": [],
   "source": [
    "# df_jittered.head()"
   ]
  },
  {
   "cell_type": "code",
   "execution_count": 134,
   "metadata": {
    "collapsed": false
   },
   "outputs": [],
   "source": [
    "# # Declare that you want to make a scatterplot matrix.\n",
    "# g = sns.PairGrid(df_young, diag_sharey=False)\n",
    "# # Scatterplot.\n",
    "# g.map_upper(plt.scatter, alpha=.5)\n",
    "# # Fit line summarizing the linear relationship of the two variables.\n",
    "# g.map_lower(sns.regplot, scatter_kws=dict(alpha=0))\n",
    "# # Give information about the univariate distributions of the variables.\n",
    "# g.map_diag(sns.kdeplot, lw=3)\n",
    "# plt.show()"
   ]
  },
  {
   "cell_type": "code",
   "execution_count": 135,
   "metadata": {
    "collapsed": false
   },
   "outputs": [
    {
     "name": "stdout",
     "output_type": "stream",
     "text": [
      "              Year      Pick  First4AV       Age        To        St  \\\n",
      "Year      1.000000  0.005528 -0.348104 -0.037497  0.156792 -0.229927   \n",
      "Pick      0.005528  1.000000 -0.520278  0.269110 -0.216615 -0.496792   \n",
      "First4AV -0.348104 -0.520278  1.000000 -0.195501  0.232709  0.827274   \n",
      "Age      -0.037497  0.269110 -0.195501  1.000000 -0.115019 -0.208985   \n",
      "To        0.156792 -0.216615  0.232709 -0.115019  1.000000  0.235878   \n",
      "St       -0.229927 -0.496792  0.827274 -0.208985  0.235878  1.000000   \n",
      "G        -0.425871 -0.466093  0.727464 -0.184708  0.315879  0.605121   \n",
      "Cmp      -0.002814 -0.130522  0.166098 -0.054773  0.021508  0.145667   \n",
      "Pass_Att -0.004015 -0.130639  0.165347 -0.054004  0.022201  0.145441   \n",
      "Pass_Yds -0.000987 -0.132409  0.165633 -0.059094  0.021641  0.145729   \n",
      "Pass_TD   0.004204 -0.128689  0.159058 -0.052912  0.027134  0.146440   \n",
      "Pass_Int -0.014573 -0.127793  0.157738 -0.054465  0.021185  0.137874   \n",
      "Rush_Att -0.057026 -0.111349  0.275110 -0.111811  0.047485  0.090930   \n",
      "Rush_Yds -0.062342 -0.116488  0.286429 -0.117781  0.051188  0.101398   \n",
      "Rush_TDs -0.053658 -0.117057  0.271460 -0.124983  0.040581  0.094966   \n",
      "Rec      -0.115690 -0.218354  0.381118 -0.217113  0.117750  0.234860   \n",
      "Rec_Yds  -0.104476 -0.221807  0.374309 -0.210531  0.114196  0.246129   \n",
      "Rec_Tds  -0.098952 -0.216947  0.341087 -0.193318  0.109154  0.243241   \n",
      "Tkl      -0.211893 -0.304299  0.403828 -0.112055  0.161851  0.455810   \n",
      "Def_Int  -0.142638 -0.205803  0.251162 -0.095168  0.106089  0.275402   \n",
      "Sk       -0.089450 -0.270143  0.324938 -0.058094  0.124960  0.272146   \n",
      "\n",
      "                 G       Cmp  Pass_Att  Pass_Yds    ...     Pass_Int  \\\n",
      "Year     -0.425871 -0.002814 -0.004015 -0.000987    ...    -0.014573   \n",
      "Pick     -0.466093 -0.130522 -0.130639 -0.132409    ...    -0.127793   \n",
      "First4AV  0.727464  0.166098  0.165347  0.165633    ...     0.157738   \n",
      "Age      -0.184708 -0.054773 -0.054004 -0.059094    ...    -0.054465   \n",
      "To        0.315879  0.021508  0.022201  0.021641    ...     0.021185   \n",
      "St        0.605121  0.145667  0.145441  0.145729    ...     0.137874   \n",
      "G         1.000000  0.040775  0.040863  0.039805    ...     0.036064   \n",
      "Cmp       0.040775  1.000000  0.999456  0.998448    ...     0.959173   \n",
      "Pass_Att  0.040863  0.999456  1.000000  0.998364    ...     0.964884   \n",
      "Pass_Yds  0.039805  0.998448  0.998364  1.000000    ...     0.966103   \n",
      "Pass_TD   0.041448  0.988551  0.988098  0.987376    ...     0.930266   \n",
      "Pass_Int  0.036064  0.959173  0.964884  0.966103    ...     1.000000   \n",
      "Rush_Att  0.154040  0.102872  0.103452  0.103993    ...     0.107103   \n",
      "Rush_Yds  0.157313  0.120300  0.121157  0.122124    ...     0.129774   \n",
      "Rush_TDs  0.142376  0.112238  0.113222  0.118108    ...     0.128416   \n",
      "Rec       0.298921 -0.037517 -0.037328 -0.037825    ...    -0.037909   \n",
      "Rec_Yds   0.281342 -0.034460 -0.034307 -0.034691    ...    -0.034851   \n",
      "Rec_Tds   0.265969 -0.029292 -0.029231 -0.029333    ...    -0.030076   \n",
      "Tkl       0.488173 -0.054898 -0.054929 -0.055422    ...    -0.055174   \n",
      "Def_Int   0.316252 -0.034348 -0.034386 -0.034648    ...    -0.034610   \n",
      "Sk        0.308447 -0.039549 -0.039593 -0.039895    ...    -0.039851   \n",
      "\n",
      "          Rush_Att  Rush_Yds  Rush_TDs       Rec   Rec_Yds   Rec_Tds  \\\n",
      "Year     -0.057026 -0.062342 -0.053658 -0.115690 -0.104476 -0.098952   \n",
      "Pick     -0.111349 -0.116488 -0.117057 -0.218354 -0.221807 -0.216947   \n",
      "First4AV  0.275110  0.286429  0.271460  0.381118  0.374309  0.341087   \n",
      "Age      -0.111811 -0.117781 -0.124983 -0.217113 -0.210531 -0.193318   \n",
      "To        0.047485  0.051188  0.040581  0.117750  0.114196  0.109154   \n",
      "St        0.090930  0.101398  0.094966  0.234860  0.246129  0.243241   \n",
      "G         0.154040  0.157313  0.142376  0.298921  0.281342  0.265969   \n",
      "Cmp       0.102872  0.120300  0.112238 -0.037517 -0.034460 -0.029292   \n",
      "Pass_Att  0.103452  0.121157  0.113222 -0.037328 -0.034307 -0.029231   \n",
      "Pass_Yds  0.103993  0.122124  0.118108 -0.037825 -0.034691 -0.029333   \n",
      "Pass_TD   0.098963  0.116693  0.104573 -0.035800 -0.032818 -0.027335   \n",
      "Pass_Int  0.107103  0.129774  0.128416 -0.037909 -0.034851 -0.030076   \n",
      "Rush_Att  1.000000  0.993765  0.928557  0.338612  0.216878  0.106904   \n",
      "Rush_Yds  0.993765  1.000000  0.938742  0.347576  0.225015  0.114780   \n",
      "Rush_TDs  0.928557  0.938742  1.000000  0.304125  0.198127  0.099440   \n",
      "Rec       0.338612  0.347576  0.304125  1.000000  0.975794  0.903383   \n",
      "Rec_Yds   0.216878  0.225015  0.198127  0.975794  1.000000  0.946165   \n",
      "Rec_Tds   0.106904  0.114780  0.099440  0.903383  0.946165  1.000000   \n",
      "Tkl      -0.109265 -0.108339 -0.099534 -0.159203 -0.148629 -0.134261   \n",
      "Def_Int  -0.071343 -0.070723 -0.067208 -0.105582 -0.098649 -0.089400   \n",
      "Sk       -0.081760 -0.081391 -0.070831 -0.121569 -0.113586 -0.102936   \n",
      "\n",
      "               Tkl   Def_Int        Sk  \n",
      "Year     -0.211893 -0.142638 -0.089450  \n",
      "Pick     -0.304299 -0.205803 -0.270143  \n",
      "First4AV  0.403828  0.251162  0.324938  \n",
      "Age      -0.112055 -0.095168 -0.058094  \n",
      "To        0.161851  0.106089  0.124960  \n",
      "St        0.455810  0.275402  0.272146  \n",
      "G         0.488173  0.316252  0.308447  \n",
      "Cmp      -0.054898 -0.034348 -0.039549  \n",
      "Pass_Att -0.054929 -0.034386 -0.039593  \n",
      "Pass_Yds -0.055422 -0.034648 -0.039895  \n",
      "Pass_TD  -0.053031 -0.033141 -0.038159  \n",
      "Pass_Int -0.055174 -0.034610 -0.039851  \n",
      "Rush_Att -0.109265 -0.071343 -0.081760  \n",
      "Rush_Yds -0.108339 -0.070723 -0.081391  \n",
      "Rush_TDs -0.099534 -0.067208 -0.070831  \n",
      "Rec      -0.159203 -0.105582 -0.121569  \n",
      "Rec_Yds  -0.148629 -0.098649 -0.113586  \n",
      "Rec_Tds  -0.134261 -0.089400 -0.102936  \n",
      "Tkl       1.000000  0.677509  0.451858  \n",
      "Def_Int   0.677509  1.000000  0.082484  \n",
      "Sk        0.451858  0.082484  1.000000  \n",
      "\n",
      "[21 rows x 21 columns]\n"
     ]
    },
    {
     "data": {
      "image/png": "[encoded data removed]",
      "text/plain": [
       "<matplotlib.figure.Figure at 0x10d584b70>"
      ]
     },
     "metadata": {},
     "output_type": "display_data"
    }
   ],
   "source": [
    "# Make the correlation matrix.\n",
    "corrmat = df_young.corr()\n",
    "print(corrmat)\n",
    "\n",
    "# Set up the matplotlib figure.\n",
    "f, ax = plt.subplots(figsize=(12, 9))\n",
    "\n",
    "# Draw the heatmap using seaborn.\n",
    "sns.heatmap(corrmat, vmax=.8, square=True)\n",
    "plt.show()\n",
    "# Heatmaps are a great way to get a quick visual read on a big correlation matrix.\n",
    "\n",
    "# Try to match the correlation numbers to the scatterplots above to get a \n",
    "# sense of what each magnitude of correlation can look like."
   ]
  },
  {
   "cell_type": "code",
   "execution_count": 136,
   "metadata": {
    "collapsed": true
   },
   "outputs": [],
   "source": [
    "df_young_mod = df_young"
   ]
  },
  {
   "cell_type": "code",
   "execution_count": 137,
   "metadata": {
    "collapsed": true
   },
   "outputs": [],
   "source": [
    "df_young_mod['Cmp'] = (df_young_mod['Cmp'] - df_young_mod['Cmp'].mean()) / df_young_mod['Cmp'].std()"
   ]
  },
  {
   "cell_type": "code",
   "execution_count": 138,
   "metadata": {
    "collapsed": true
   },
   "outputs": [],
   "source": [
    "df_young_mod['Pass_Att'] = (df_young_mod['Pass_Att'] - df_young_mod['Pass_Att'].mean()) / df_young_mod['Pass_Att'].std()"
   ]
  },
  {
   "cell_type": "code",
   "execution_count": 139,
   "metadata": {
    "collapsed": true
   },
   "outputs": [],
   "source": [
    "df_young_mod['Pass_Yds'] = (df_young_mod['Pass_Yds'] - df_young_mod['Pass_Yds'].mean()) / df_young_mod['Pass_Yds'].std()"
   ]
  },
  {
   "cell_type": "code",
   "execution_count": 140,
   "metadata": {
    "collapsed": true
   },
   "outputs": [],
   "source": [
    "df_young_mod['Pass_TD'] = (df_young_mod['Pass_TD'] - df_young_mod['Pass_TD'].mean()) / df_young_mod['Pass_TD'].std()"
   ]
  },
  {
   "cell_type": "code",
   "execution_count": 141,
   "metadata": {
    "collapsed": true
   },
   "outputs": [],
   "source": [
    "df_young_mod['Pass_Int'] = (df_young_mod['Pass_Int'] - df_young_mod['Pass_Int'].mean()) / df_young_mod['Pass_Int'].std()"
   ]
  },
  {
   "cell_type": "code",
   "execution_count": 142,
   "metadata": {
    "collapsed": false
   },
   "outputs": [
    {
     "data": {
      "text/plain": [
       "array([ 5.40390898,  4.94522957, -0.0661565 , -0.02508491,  0.09181271,\n",
       "       -0.06424457, -0.10996424,  1.65980988,  7.90992787,  1.19045593,\n",
       "        4.81696368,  9.96018035,  0.71460167, -0.05664167,  0.02066842,\n",
       "       -0.030824  ,  0.77678152,  1.47898616,  2.68560577,  3.61409379,\n",
       "        3.7598133 , -0.13075666, -0.0114733 ,  0.06108883,  0.38200446,\n",
       "       -0.06233264, -0.04842375, -0.01680796, -0.05720321, -0.10848484])"
      ]
     },
     "execution_count": 142,
     "metadata": {},
     "output_type": "execute_result"
    }
   ],
   "source": [
    "df_young_mod['QBR'] = 0.20*(df_young_mod['Cmp'] + df_young_mod['Pass_Att'] + df_young_mod['Pass_Yds'] + df_young_mod['Pass_TD'] - df_young_mod['Pass_Int'])\n",
    "df_young_mod['QBR'].unique()"
   ]
  },
  {
   "cell_type": "code",
   "execution_count": 143,
   "metadata": {
    "collapsed": false
   },
   "outputs": [
    {
     "data": {
      "text/plain": [
       "array([ 2.,  1.,  3.,  4.])"
      ]
     },
     "execution_count": 143,
     "metadata": {},
     "output_type": "execute_result"
    }
   ],
   "source": [
    "df_young_mod['years_played'] = df_young_mod['To'] - df_young_mod['Year'] + 1\n",
    "df_young_mod['years_played'].unique()"
   ]
  },
  {
   "cell_type": "code",
   "execution_count": 144,
   "metadata": {
    "collapsed": false
   },
   "outputs": [],
   "source": [
    "df_young_mod = df_young_mod.drop(['Year', 'To', 'Cmp', 'Pass_Att', 'Pass_Yds', 'Pass_TD', 'Pass_Int'], axis=1)"
   ]
  },
  {
   "cell_type": "code",
   "execution_count": 145,
   "metadata": {
    "collapsed": false
   },
   "outputs": [
    {
     "name": "stdout",
     "output_type": "stream",
     "text": [
      "                  Pick  First4AV       Age        St         G  Rush_Att  \\\n",
      "Pick          1.000000 -0.520278  0.269110 -0.496792 -0.466093 -0.111349   \n",
      "First4AV     -0.520278  1.000000 -0.195501  0.827274  0.727464  0.275110   \n",
      "Age           0.269110 -0.195501  1.000000 -0.208985 -0.184708 -0.111811   \n",
      "St           -0.496792  0.827274 -0.208985  1.000000  0.605121  0.090930   \n",
      "G            -0.466093  0.727464 -0.184708  0.605121  1.000000  0.154040   \n",
      "Rush_Att     -0.111349  0.275110 -0.111811  0.090930  0.154040  1.000000   \n",
      "Rush_Yds     -0.116488  0.286429 -0.117781  0.101398  0.157313  0.993765   \n",
      "Rush_TDs     -0.117057  0.271460 -0.124983  0.094966  0.142376  0.928557   \n",
      "Rec          -0.218354  0.381118 -0.217113  0.234860  0.298921  0.338612   \n",
      "Rec_Yds      -0.221807  0.374309 -0.210531  0.246129  0.281342  0.216878   \n",
      "Rec_Tds      -0.216947  0.341087 -0.193318  0.243241  0.265969  0.106904   \n",
      "Tkl          -0.304299  0.403828 -0.112055  0.455810  0.488173 -0.109265   \n",
      "Def_Int      -0.205803  0.251162 -0.095168  0.275402  0.316252 -0.071343   \n",
      "Sk           -0.270143  0.324938 -0.058094  0.272146  0.308447 -0.081760   \n",
      "QBR          -0.129492  0.163610 -0.054597  0.146213  0.041634  0.099196   \n",
      "years_played -0.149744  0.453485 -0.044935  0.354543  0.575671  0.080558   \n",
      "\n",
      "              Rush_Yds  Rush_TDs       Rec   Rec_Yds   Rec_Tds       Tkl  \\\n",
      "Pick         -0.116488 -0.117057 -0.218354 -0.221807 -0.216947 -0.304299   \n",
      "First4AV      0.286429  0.271460  0.381118  0.374309  0.341087  0.403828   \n",
      "Age          -0.117781 -0.124983 -0.217113 -0.210531 -0.193318 -0.112055   \n",
      "St            0.101398  0.094966  0.234860  0.246129  0.243241  0.455810   \n",
      "G             0.157313  0.142376  0.298921  0.281342  0.265969  0.488173   \n",
      "Rush_Att      0.993765  0.928557  0.338612  0.216878  0.106904 -0.109265   \n",
      "Rush_Yds      1.000000  0.938742  0.347576  0.225015  0.114780 -0.108339   \n",
      "Rush_TDs      0.938742  1.000000  0.304125  0.198127  0.099440 -0.099534   \n",
      "Rec           0.347576  0.304125  1.000000  0.975794  0.903383 -0.159203   \n",
      "Rec_Yds       0.225015  0.198127  0.975794  1.000000  0.946165 -0.148629   \n",
      "Rec_Tds       0.114780  0.099440  0.903383  0.946165  1.000000 -0.134261   \n",
      "Tkl          -0.108339 -0.099534 -0.159203 -0.148629 -0.134261  1.000000   \n",
      "Def_Int      -0.070723 -0.067208 -0.105582 -0.098649 -0.089400  0.677509   \n",
      "Sk           -0.081391 -0.070831 -0.121569 -0.113586 -0.102936  0.451858   \n",
      "QBR           0.115059  0.104956 -0.036294 -0.033295 -0.027941 -0.053543   \n",
      "years_played  0.087583  0.073056  0.177767  0.165797  0.157698  0.289562   \n",
      "\n",
      "               Def_Int        Sk       QBR  years_played  \n",
      "Pick         -0.205803 -0.270143 -0.129492     -0.149744  \n",
      "First4AV      0.251162  0.324938  0.163610      0.453485  \n",
      "Age          -0.095168 -0.058094 -0.054597     -0.044935  \n",
      "St            0.275402  0.272146  0.146213      0.354543  \n",
      "G             0.316252  0.308447  0.041634      0.575671  \n",
      "Rush_Att     -0.071343 -0.081760  0.099196      0.080558  \n",
      "Rush_Yds     -0.070723 -0.081391  0.115059      0.087583  \n",
      "Rush_TDs     -0.067208 -0.070831  0.104956      0.073056  \n",
      "Rec          -0.105582 -0.121569 -0.036294      0.177767  \n",
      "Rec_Yds      -0.098649 -0.113586 -0.033295      0.165797  \n",
      "Rec_Tds      -0.089400 -0.102936 -0.027941      0.157698  \n",
      "Tkl           0.677509  0.451858 -0.053543      0.289562  \n",
      "Def_Int       1.000000  0.082484 -0.033455      0.193006  \n",
      "Sk            0.082484  1.000000 -0.038521      0.160153  \n",
      "QBR          -0.033455 -0.038521  1.000000      0.012592  \n",
      "years_played  0.193006  0.160153  0.012592      1.000000  \n"
     ]
    },
    {
     "data": {
      "image/png": "[encoded data removed]",
      "text/plain": [
       "<matplotlib.figure.Figure at 0x110a68278>"
      ]
     },
     "metadata": {},
     "output_type": "display_data"
    }
   ],
   "source": [
    "# Make the correlation matrix.\n",
    "corrmat = df_young_mod.corr()\n",
    "print(corrmat)\n",
    "\n",
    "# Set up the matplotlib figure.\n",
    "f, ax = plt.subplots(figsize=(12, 9))\n",
    "\n",
    "# Draw the heatmap using seaborn.\n",
    "sns.heatmap(corrmat, vmax=.8, square=True)\n",
    "plt.show()\n",
    "# Heatmaps are a great way to get a quick visual read on a big correlation matrix.\n",
    "\n",
    "# Try to match the correlation numbers to the scatterplots above to get a \n",
    "# sense of what each magnitude of correlation can look like."
   ]
  },
  {
   "cell_type": "code",
   "execution_count": 146,
   "metadata": {
    "collapsed": true
   },
   "outputs": [],
   "source": [
    "# AV contribution for running backs:\n",
    "\n",
    "df_young_mod['Rush_Att'] = (df_young_mod['Rush_Att'] - df_young_mod['Rush_Att'].mean()) / df_young_mod['Rush_Att'].std()"
   ]
  },
  {
   "cell_type": "code",
   "execution_count": 147,
   "metadata": {
    "collapsed": true
   },
   "outputs": [],
   "source": [
    "df_young_mod['Rush_Yds'] = (df_young_mod['Rush_Yds'] - df_young_mod['Rush_Yds'].mean()) / df_young_mod['Rush_Yds'].std()"
   ]
  },
  {
   "cell_type": "code",
   "execution_count": 148,
   "metadata": {
    "collapsed": true
   },
   "outputs": [],
   "source": [
    "df_young_mod['Rush_TDs'] = (df_young_mod['Rush_TDs'] - df_young_mod['Rush_TDs'].mean()) / df_young_mod['Rush_TDs'].std()"
   ]
  },
  {
   "cell_type": "code",
   "execution_count": 149,
   "metadata": {
    "collapsed": true
   },
   "outputs": [],
   "source": [
    "df_young_mod['RBR'] = (1.0/3.0)*(df_young_mod['Rush_Att'] + df_young_mod['Rush_Yds'] + df_young_mod['Rush_TDs'])"
   ]
  },
  {
   "cell_type": "code",
   "execution_count": 150,
   "metadata": {
    "collapsed": true
   },
   "outputs": [],
   "source": [
    "# AV contribution for pass catchers:\n",
    "\n",
    "df_young_mod['Rec'] = (df_young_mod['Rec'] - df_young_mod['Rec'].mean()) / df_young_mod['Rec'].std()"
   ]
  },
  {
   "cell_type": "code",
   "execution_count": 151,
   "metadata": {
    "collapsed": true
   },
   "outputs": [],
   "source": [
    "df_young_mod['Rec_Yds'] = (df_young_mod['Rec_Yds'] - df_young_mod['Rec_Yds'].mean()) / df_young_mod['Rec_Yds'].std()"
   ]
  },
  {
   "cell_type": "code",
   "execution_count": 152,
   "metadata": {
    "collapsed": true
   },
   "outputs": [],
   "source": [
    "df_young_mod['Rec_Tds'] = (df_young_mod['Rec_Tds'] - df_young_mod['Rec_Tds'].mean()) / df_young_mod['Rec_Tds'].std()"
   ]
  },
  {
   "cell_type": "code",
   "execution_count": 153,
   "metadata": {
    "collapsed": true
   },
   "outputs": [],
   "source": [
    "df_young_mod['ReceiverR'] = (1.0/3.0)*(df_young_mod['Rec'] + df_young_mod['Rec_Yds'] + df_young_mod['Rec_Tds'])"
   ]
  },
  {
   "cell_type": "code",
   "execution_count": 154,
   "metadata": {
    "collapsed": true
   },
   "outputs": [],
   "source": [
    "# AV contribution for defenders:\n",
    "\n",
    "df_young_mod['Tkl'] = (df_young_mod['Tkl'] - df_young_mod['Tkl'].mean()) / df_young_mod['Tkl'].std()"
   ]
  },
  {
   "cell_type": "code",
   "execution_count": 155,
   "metadata": {
    "collapsed": true
   },
   "outputs": [],
   "source": [
    "df_young_mod['Def_Int'] = (df_young_mod['Def_Int'] - df_young_mod['Def_Int'].mean()) / df_young_mod['Def_Int'].std()"
   ]
  },
  {
   "cell_type": "code",
   "execution_count": 156,
   "metadata": {
    "collapsed": false
   },
   "outputs": [],
   "source": [
    "df_young_mod['Sk'] = (df_young_mod['Sk'] - df_young_mod['Sk'].mean()) / df_young_mod['Sk'].std()"
   ]
  },
  {
   "cell_type": "code",
   "execution_count": 157,
   "metadata": {
    "collapsed": false
   },
   "outputs": [],
   "source": [
    "df_young_mod['DefR'] = (1.0/3.0)*(df_young_mod['Tkl'] + df_young_mod['Def_Int'] + df_young_mod['Sk'])\n",
    "\n",
    "# df_young_mod['DefR'] = (1.0/2.0)*(df_young_mod['Tkl'] + df_young_mod['Def_Int'])"
   ]
  },
  {
   "cell_type": "code",
   "execution_count": 158,
   "metadata": {
    "collapsed": false
   },
   "outputs": [],
   "source": [
    "# eliminate superfluous columns\n",
    "\n",
    "df_young_mod = df_young_mod.drop(['Rush_Att', 'Rush_Yds', 'Rush_TDs', 'Rec_Yds', 'Rec', 'Rec_Tds', 'Tkl', 'Def_Int'], axis=1)"
   ]
  },
  {
   "cell_type": "code",
   "execution_count": 159,
   "metadata": {
    "collapsed": false
   },
   "outputs": [
    {
     "name": "stdout",
     "output_type": "stream",
     "text": [
      "Index(['Pick', 'Tm', 'Position Standard', 'First4AV', 'Age', 'St', 'G', 'Sk',\n",
      "       'College/Univ', 'QBR', 'years_played', 'RBR', 'ReceiverR', 'DefR'],\n",
      "      dtype='object')\n"
     ]
    }
   ],
   "source": [
    "print(df_young_mod.columns) # look!  'Sk' is a column;  why is it not in the heat map?"
   ]
  },
  {
   "cell_type": "code",
   "execution_count": 160,
   "metadata": {
    "collapsed": false
   },
   "outputs": [],
   "source": [
    "# eliminate superfluous columns -- these gave errors before!\n",
    "\n",
    "# df_young_mod = df_young_mod.drop(['Tm', 'Position Standard', 'College/Univ', 'Sk'], axis=1) <-- CAUSES ERROR\n",
    "\n",
    "df_young_mod = df_young_mod.drop(['Tm', 'Position Standard', 'College/Univ'], axis=1)"
   ]
  },
  {
   "cell_type": "code",
   "execution_count": 161,
   "metadata": {
    "collapsed": false
   },
   "outputs": [
    {
     "name": "stdout",
     "output_type": "stream",
     "text": [
      "Index(['Pick', 'First4AV', 'Age', 'St', 'G', 'QBR', 'years_played', 'RBR',\n",
      "       'ReceiverR', 'DefR'],\n",
      "      dtype='object')\n"
     ]
    }
   ],
   "source": [
    "df_young_mod = df_young_mod.drop(['Sk'], axis=1)\n",
    "\n",
    "print(df_young_mod.columns)"
   ]
  },
  {
   "cell_type": "code",
   "execution_count": 162,
   "metadata": {
    "collapsed": false
   },
   "outputs": [
    {
     "name": "stdout",
     "output_type": "stream",
     "text": [
      "Index(['Pick', 'First4AV', 'Age', 'QBR', 'years_played', 'RBR', 'ReceiverR',\n",
      "       'DefR'],\n",
      "      dtype='object')\n"
     ]
    }
   ],
   "source": [
    "df_young_mod = df_young_mod.drop(['St', 'G'], axis=1)\n",
    "\n",
    "print(df_young_mod.columns)"
   ]
  },
  {
   "cell_type": "code",
   "execution_count": 163,
   "metadata": {
    "collapsed": false
   },
   "outputs": [
    {
     "data": {
      "text/html": [
       "<div>\n",
       "<table border=\"1\" class=\"dataframe\">\n",
       "  <thead>\n",
       "    <tr style=\"text-align: right;\">\n",
       "      <th></th>\n",
       "      <th>Pick</th>\n",
       "      <th>First4AV</th>\n",
       "      <th>Age</th>\n",
       "      <th>QBR</th>\n",
       "      <th>years_played</th>\n",
       "      <th>RBR</th>\n",
       "      <th>ReceiverR</th>\n",
       "      <th>DefR</th>\n",
       "    </tr>\n",
       "  </thead>\n",
       "  <tbody>\n",
       "    <tr>\n",
       "      <th>0</th>\n",
       "      <td>1</td>\n",
       "      <td>13</td>\n",
       "      <td>21.0</td>\n",
       "      <td>5.403909</td>\n",
       "      <td>2.0</td>\n",
       "      <td>1.469594</td>\n",
       "      <td>-0.317681</td>\n",
       "      <td>-0.392461</td>\n",
       "    </tr>\n",
       "    <tr>\n",
       "      <th>1</th>\n",
       "      <td>2</td>\n",
       "      <td>9</td>\n",
       "      <td>21.0</td>\n",
       "      <td>4.945230</td>\n",
       "      <td>2.0</td>\n",
       "      <td>1.229797</td>\n",
       "      <td>-0.173029</td>\n",
       "      <td>-0.392461</td>\n",
       "    </tr>\n",
       "    <tr>\n",
       "      <th>2</th>\n",
       "      <td>3</td>\n",
       "      <td>0</td>\n",
       "      <td>21.0</td>\n",
       "      <td>-0.066156</td>\n",
       "      <td>2.0</td>\n",
       "      <td>-0.226509</td>\n",
       "      <td>-0.317681</td>\n",
       "      <td>0.001464</td>\n",
       "    </tr>\n",
       "    <tr>\n",
       "      <th>3</th>\n",
       "      <td>4</td>\n",
       "      <td>9</td>\n",
       "      <td>21.0</td>\n",
       "      <td>-0.066156</td>\n",
       "      <td>2.0</td>\n",
       "      <td>-0.216402</td>\n",
       "      <td>3.238900</td>\n",
       "      <td>-0.392461</td>\n",
       "    </tr>\n",
       "    <tr>\n",
       "      <th>4</th>\n",
       "      <td>5</td>\n",
       "      <td>7</td>\n",
       "      <td>23.0</td>\n",
       "      <td>-0.066156</td>\n",
       "      <td>2.0</td>\n",
       "      <td>-0.226509</td>\n",
       "      <td>-0.317681</td>\n",
       "      <td>-0.392461</td>\n",
       "    </tr>\n",
       "  </tbody>\n",
       "</table>\n",
       "</div>"
      ],
      "text/plain": [
       "   Pick  First4AV   Age       QBR  years_played       RBR  ReceiverR      DefR\n",
       "0     1        13  21.0  5.403909           2.0  1.469594  -0.317681 -0.392461\n",
       "1     2         9  21.0  4.945230           2.0  1.229797  -0.173029 -0.392461\n",
       "2     3         0  21.0 -0.066156           2.0 -0.226509  -0.317681  0.001464\n",
       "3     4         9  21.0 -0.066156           2.0 -0.216402   3.238900 -0.392461\n",
       "4     5         7  23.0 -0.066156           2.0 -0.226509  -0.317681 -0.392461"
      ]
     },
     "execution_count": 163,
     "metadata": {},
     "output_type": "execute_result"
    }
   ],
   "source": [
    "df_young_mod.head()  #  Still have an 'Sk' column -- but 'Sk' isn't in the heat map below.  WHY?!?"
   ]
  },
  {
   "cell_type": "code",
   "execution_count": 164,
   "metadata": {
    "collapsed": false
   },
   "outputs": [
    {
     "name": "stdout",
     "output_type": "stream",
     "text": [
      "     Pick  First4AV   Age       QBR  years_played       RBR  ReceiverR  \\\n",
      "0       1        13  21.0  5.403909           2.0  1.469594  -0.317681   \n",
      "1       2         9  21.0  4.945230           2.0  1.229797  -0.173029   \n",
      "2       3         0  21.0 -0.066156           2.0 -0.226509  -0.317681   \n",
      "3       4         9  21.0 -0.066156           2.0 -0.216402   3.238900   \n",
      "4       5         7  23.0 -0.066156           2.0 -0.226509  -0.317681   \n",
      "5       6         9  21.0 -0.066156           2.0 -0.226509  -0.317681   \n",
      "6       7         0  23.0 -0.066156           2.0 -0.212641  -0.015576   \n",
      "7       8         7  23.0 -0.066156           2.0 -0.226509  -0.317681   \n",
      "8       9         9  21.0 -0.066156           2.0 -0.226509  -0.316801   \n",
      "9      10         8  21.0 -0.066156           2.0  5.372546   0.377325   \n",
      "10     11         1  23.0 -0.066156           2.0 -0.226509  -0.317681   \n",
      "11     12         6  22.0 -0.066156           2.0 -0.226509  -0.317681   \n",
      "12     13         6  21.0 -0.066156           2.0 -0.226509  -0.317681   \n",
      "13     14         3  22.0 -0.066156           2.0 -0.226509   1.483012   \n",
      "14     15         5  22.0 -0.066156           2.0  4.370554   0.863917   \n",
      "15     16         5  23.0 -0.066156           2.0 -0.226509  -0.317681   \n",
      "16     17         1  21.0 -0.066156           2.0 -0.226509  -0.317681   \n",
      "17     18        11  22.0 -0.066156           2.0 -0.226509  -0.317681   \n",
      "18     19         2  23.0 -0.066156           2.0 -0.226509  -0.317681   \n",
      "19     20         2  22.0 -0.066156           2.0 -0.216841   0.729487   \n",
      "20     21         0  23.0 -0.066156           2.0 -0.226509  -0.317681   \n",
      "21     22         3  22.0 -0.066156           2.0 -0.226509  -0.317681   \n",
      "22     23         2  22.0 -0.066156           2.0 -0.226509  -0.317681   \n",
      "23     24         0  21.0 -0.066156           2.0 -0.226509  -0.317681   \n",
      "24     25         5  21.0 -0.066156           2.0 -0.226509  -0.317681   \n",
      "25     26         0  22.0 -0.066156           2.0 -0.219990   0.166551   \n",
      "26     27         4  23.0 -0.066156           2.0 -0.226509  -0.317681   \n",
      "27     28         7  23.0 -0.066156           2.0 -0.226509  -0.317681   \n",
      "28     29         2  22.0 -0.066156           2.0 -0.187835   0.711638   \n",
      "29     30         5  23.0 -0.066156           2.0 -0.226509  -0.317681   \n",
      "..    ...       ...   ...       ...           ...       ...        ...   \n",
      "736   225         0  23.0 -0.066156           4.0 -0.226509  -0.317681   \n",
      "737   226         0  22.0 -0.066156           2.0 -0.226509  -0.317681   \n",
      "738   227         2  23.0 -0.066156           2.0 -0.226509  -0.317681   \n",
      "739   228         0  21.0 -0.066156           4.0 -0.226509  -0.317681   \n",
      "740   229         0  23.0 -0.066156           1.0 -0.226509  -0.317681   \n",
      "741   230         2  22.0 -0.066156           4.0  0.675729  -0.262993   \n",
      "742   231         1  25.0 -0.066156           2.0 -0.226509  -0.317681   \n",
      "743   232         4  22.0 -0.066156           4.0 -0.226509  -0.317681   \n",
      "744   233         7  23.0 -0.066156           4.0 -0.226509  -0.317681   \n",
      "745   234         0  23.0 -0.066156           4.0 -0.226509  -0.317681   \n",
      "746   235         0  23.0 -0.066156           2.0 -0.226509  -0.317681   \n",
      "747   236         5  21.0 -0.066156           4.0 -0.226509   0.787544   \n",
      "748   237         0  23.0 -0.057203           3.0 -0.193697  -0.287094   \n",
      "749   238         0  23.0 -0.066156           4.0 -0.226509  -0.317681   \n",
      "750   239         0  23.0 -0.066156           4.0 -0.226509  -0.317681   \n",
      "751   240         0  23.0 -0.066156           3.0 -0.226509  -0.317681   \n",
      "752   241         0  23.0 -0.066156           4.0 -0.226509  -0.317681   \n",
      "753   242         4  22.0 -0.066156           1.0 -0.226509  -0.317681   \n",
      "754   243         8  22.0 -0.066156           4.0 -0.226509  -0.317681   \n",
      "755   244         1  23.0 -0.066156           1.0 -0.226509  -0.317681   \n",
      "756   245         0  23.0 -0.066156           4.0 -0.226509  -0.317681   \n",
      "757   246         0  23.0 -0.066156           4.0 -0.226509  -0.317681   \n",
      "758   247         0  23.0 -0.066156           4.0 -0.226509  -0.317681   \n",
      "759   248         4  22.0 -0.066156           4.0 -0.226509  -0.317681   \n",
      "760   249         0  23.0 -0.108485           3.0 -0.226290  -0.317681   \n",
      "761   250         1  23.0 -0.066156           4.0 -0.226509  -0.317681   \n",
      "762   251         1  23.0 -0.066156           4.0 -0.226509  -0.317681   \n",
      "763   252         6  23.0 -0.066156           4.0 -0.226509  -0.317681   \n",
      "764   253         0  24.0 -0.066156           2.0 -0.031826  -0.258510   \n",
      "765   254         0  22.0 -0.066156           3.0 -0.226509  -0.305991   \n",
      "\n",
      "         DefR  \n",
      "0   -0.392461  \n",
      "1   -0.392461  \n",
      "2    0.001464  \n",
      "3   -0.392461  \n",
      "4   -0.392461  \n",
      "5    1.013640  \n",
      "6   -0.392461  \n",
      "7    1.663785  \n",
      "8   -0.392461  \n",
      "9   -0.392461  \n",
      "10   0.509225  \n",
      "11   0.087499  \n",
      "12  -0.392461  \n",
      "13  -0.392461  \n",
      "14  -0.392461  \n",
      "15   0.344091  \n",
      "16   0.272996  \n",
      "17   3.423427  \n",
      "18  -0.392461  \n",
      "19  -0.392461  \n",
      "20  -0.392461  \n",
      "21   0.188196  \n",
      "22   0.731261  \n",
      "23  -0.392461  \n",
      "24   0.077885  \n",
      "25  -0.392461  \n",
      "26   0.299255  \n",
      "27  -0.392461  \n",
      "28  -0.392461  \n",
      "29   1.095129  \n",
      "..        ...  \n",
      "736 -0.392461  \n",
      "737 -0.120929  \n",
      "738 -0.392461  \n",
      "739 -0.392461  \n",
      "740 -0.392461  \n",
      "741 -0.392461  \n",
      "742 -0.155193  \n",
      "743  0.077885  \n",
      "744  1.066093  \n",
      "745 -0.392461  \n",
      "746 -0.377424  \n",
      "747 -0.392461  \n",
      "748 -0.392461  \n",
      "749 -0.392461  \n",
      "750 -0.213248  \n",
      "751 -0.392461  \n",
      "752 -0.392461  \n",
      "753 -0.392461  \n",
      "754  1.786569  \n",
      "755 -0.332312  \n",
      "756 -0.392461  \n",
      "757 -0.392461  \n",
      "758 -0.392461  \n",
      "759  0.938649  \n",
      "760 -0.392461  \n",
      "761 -0.234569  \n",
      "762 -0.392461  \n",
      "763  1.868998  \n",
      "764 -0.369905  \n",
      "765 -0.392461  \n",
      "\n",
      "[766 rows x 8 columns]\n"
     ]
    }
   ],
   "source": [
    "print(df_young_mod)"
   ]
  },
  {
   "cell_type": "code",
   "execution_count": 165,
   "metadata": {
    "collapsed": false
   },
   "outputs": [
    {
     "name": "stdout",
     "output_type": "stream",
     "text": [
      "                  Pick  First4AV       Age       QBR  years_played       RBR  \\\n",
      "Pick          1.000000 -0.520278  0.269110 -0.129492     -0.149744 -0.116782   \n",
      "First4AV     -0.520278  1.000000 -0.195501  0.163610      0.453485  0.282055   \n",
      "Age           0.269110 -0.195501  1.000000 -0.054597     -0.044935 -0.120060   \n",
      "QBR          -0.129492  0.163610 -0.054597  1.000000      0.012592  0.108085   \n",
      "years_played -0.149744  0.453485 -0.044935  0.012592      1.000000  0.081670   \n",
      "RBR          -0.116782  0.282055 -0.120060  0.108085      0.081670  1.000000   \n",
      "ReceiverR    -0.223414  0.372812 -0.211125 -0.033160      0.170427  0.224658   \n",
      "DefR         -0.335030  0.420772 -0.113925 -0.053897      0.275978 -0.110555   \n",
      "\n",
      "              ReceiverR      DefR  \n",
      "Pick          -0.223414 -0.335030  \n",
      "First4AV       0.372812  0.420772  \n",
      "Age           -0.211125 -0.113925  \n",
      "QBR           -0.033160 -0.053897  \n",
      "years_played   0.170427  0.275978  \n",
      "RBR            0.224658 -0.110555  \n",
      "ReceiverR      1.000000 -0.156768  \n",
      "DefR          -0.156768  1.000000  \n"
     ]
    },
    {
     "data": {
      "image/png": "[encoded data removed]",
      "text/plain": [
       "<matplotlib.figure.Figure at 0x111044d68>"
      ]
     },
     "metadata": {},
     "output_type": "display_data"
    }
   ],
   "source": [
    "# Make the correlation matrix.\n",
    "corrmat = df_young_mod.corr()\n",
    "print(corrmat)\n",
    "\n",
    "# Set up the matplotlib figure.\n",
    "f, ax = plt.subplots(figsize=(12, 9))\n",
    "\n",
    "# Draw the heatmap using seaborn.\n",
    "sns.heatmap(corrmat, vmax=.8, square=True)\n",
    "plt.show()\n",
    "# Heatmaps are a great way to get a quick visual read on a big correlation matrix."
   ]
  },
  {
   "cell_type": "code",
   "execution_count": 166,
   "metadata": {
    "collapsed": false
   },
   "outputs": [
    {
     "data": {
      "text/plain": [
       "array([  1,   2,   3,   4,   5,   6,   7,   8,   9,  10,  11,  12,  13,\n",
       "        14,  15,  16,  17,  18,  19,  20,  21,  22,  23,  24,  25,  26,\n",
       "        27,  28,  29,  30,  31,  32,  33,  34,  35,  36,  37,  38,  39,\n",
       "        40,  41,  42,  43,  44,  45,  46,  47,  48,  49,  50,  51,  52,\n",
       "        53,  54,  55,  56,  57,  58,  59,  60,  61,  62,  63,  64,  65,\n",
       "        66,  67,  68,  69,  70,  71,  72,  73,  74,  75,  76,  77,  78,\n",
       "        79,  80,  81,  82,  83,  84,  85,  86,  87,  88,  89,  90,  91,\n",
       "        92,  93,  94,  95,  96,  97,  98,  99, 100, 101, 102, 103, 104,\n",
       "       105, 106, 107, 108, 109, 110, 111, 112, 113, 114, 115, 116, 117,\n",
       "       118, 119, 120, 121, 122, 123, 124, 125, 126, 127, 128, 129, 130,\n",
       "       131, 132, 133, 134, 135, 136, 137, 138, 139, 140, 141, 142, 143,\n",
       "       144, 145, 146, 147, 148, 149, 150, 151, 152, 153, 154, 155, 156,\n",
       "       157, 158, 159, 160, 161, 162, 163, 164, 165, 166, 167, 168, 169,\n",
       "       170, 171, 172, 173, 174, 175, 176, 177, 178, 179, 180, 181, 182,\n",
       "       183, 184, 185, 186, 187, 188, 189, 190, 191, 192, 193, 194, 195,\n",
       "       196, 197, 198, 199, 200, 201, 202, 203, 204, 205, 206, 207, 208,\n",
       "       209, 210, 211, 212, 213, 214, 215, 216, 217, 218, 219, 220, 221,\n",
       "       222, 223, 224, 225, 226, 227, 228, 229, 230, 231, 232, 233, 234,\n",
       "       235, 236, 237, 238, 239, 240, 241, 242, 243, 244, 245, 246, 247,\n",
       "       248, 249, 250, 251, 252, 253, 254, 255, 256])"
      ]
     },
     "execution_count": 166,
     "metadata": {},
     "output_type": "execute_result"
    }
   ],
   "source": [
    "df_young_mod['Pick'].unique()\n"
   ]
  },
  {
   "cell_type": "code",
   "execution_count": 167,
   "metadata": {
    "collapsed": false
   },
   "outputs": [
    {
     "data": {
      "text/plain": [
       "array([13,  9,  0,  7,  8,  1,  6,  3,  5, 11,  2,  4, 12, 19, 17, 21, 16,\n",
       "       10, 24, 31, 22, 14, 18, 15, -1, 20, 27, 32, 26, 28, 30, 33])"
      ]
     },
     "execution_count": 167,
     "metadata": {},
     "output_type": "execute_result"
    }
   ],
   "source": [
    "df_young_mod['First4AV'].unique()"
   ]
  },
  {
   "cell_type": "code",
   "execution_count": 168,
   "metadata": {
    "collapsed": false
   },
   "outputs": [
    {
     "data": {
      "text/plain": [
       "array([ 21.,  23.,  22.,  24.,  20.,  25.,  26.])"
      ]
     },
     "execution_count": 168,
     "metadata": {},
     "output_type": "execute_result"
    }
   ],
   "source": [
    "df_young_mod['Age'].unique()"
   ]
  },
  {
   "cell_type": "code",
   "execution_count": null,
   "metadata": {
    "collapsed": true
   },
   "outputs": [],
   "source": []
  },
  {
   "cell_type": "code",
   "execution_count": 169,
   "metadata": {
    "collapsed": false
   },
   "outputs": [],
   "source": [
    "X = StandardScaler().fit_transform(df_young_mod)"
   ]
  },
  {
   "cell_type": "code",
   "execution_count": 170,
   "metadata": {
    "collapsed": false
   },
   "outputs": [
    {
     "name": "stdout",
     "output_type": "stream",
     "text": [
      "The percentage of total variance in the dataset explained by each component from Sklearn PCA.\n",
      " [ 0.29929968  0.16944799  0.13101929  0.12411412  0.09528647  0.08978253\n",
      "  0.05637103  0.03467889]\n"
     ]
    }
   ],
   "source": [
    "sklearn_pca = PCA(n_components=8)\n",
    "Y_sklearn = sklearn_pca.fit_transform(X)\n",
    "\n",
    "print(\n",
    "    'The percentage of total variance in the dataset explained by each',\n",
    "    'component from Sklearn PCA.\\n',\n",
    "    sklearn_pca.explained_variance_ratio_\n",
    ")"
   ]
  },
  {
   "cell_type": "code",
   "execution_count": 171,
   "metadata": {
    "collapsed": false
   },
   "outputs": [
    {
     "name": "stdout",
     "output_type": "stream",
     "text": [
      "The percentage of total variance in the dataset explained by each component from Sklearn PCA.\n",
      " [ 0.29929968  0.16944799  0.13101929  0.12411412  0.09528647  0.08978253\n",
      "  0.05637103]\n"
     ]
    }
   ],
   "source": [
    "sklearn_pca = PCA(n_components=7)\n",
    "Y_sklearn = sklearn_pca.fit_transform(X)\n",
    "\n",
    "print(\n",
    "    'The percentage of total variance in the dataset explained by each',\n",
    "    'component from Sklearn PCA.\\n',\n",
    "    sklearn_pca.explained_variance_ratio_\n",
    ")"
   ]
  },
  {
   "cell_type": "code",
   "execution_count": 172,
   "metadata": {
    "collapsed": false
   },
   "outputs": [
    {
     "name": "stdout",
     "output_type": "stream",
     "text": [
      "The percentage of total variance in the dataset explained by each component from Sklearn PCA.\n",
      " [ 0.29929968  0.16944799  0.13101929  0.12411412  0.09528647  0.08978253]\n"
     ]
    }
   ],
   "source": [
    "sklearn_pca = PCA(n_components=6)\n",
    "Y_sklearn = sklearn_pca.fit_transform(X)\n",
    "\n",
    "print(\n",
    "    'The percentage of total variance in the dataset explained by each',\n",
    "    'component from Sklearn PCA.\\n',\n",
    "    sklearn_pca.explained_variance_ratio_\n",
    ")"
   ]
  },
  {
   "cell_type": "code",
   "execution_count": 173,
   "metadata": {
    "collapsed": false
   },
   "outputs": [
    {
     "name": "stdout",
     "output_type": "stream",
     "text": [
      "The percentage of total variance in the dataset explained by each component from Sklearn PCA.\n",
      " [ 0.29929968  0.16944799  0.13101929  0.12411412  0.09528647]\n"
     ]
    }
   ],
   "source": [
    "sklearn_pca = PCA(n_components=5)\n",
    "Y_sklearn = sklearn_pca.fit_transform(X)\n",
    "\n",
    "print(\n",
    "    'The percentage of total variance in the dataset explained by each',\n",
    "    'component from Sklearn PCA.\\n',\n",
    "    sklearn_pca.explained_variance_ratio_\n",
    ")"
   ]
  },
  {
   "cell_type": "code",
   "execution_count": 174,
   "metadata": {
    "collapsed": false
   },
   "outputs": [
    {
     "name": "stdout",
     "output_type": "stream",
     "text": [
      "The percentage of total variance in the dataset explained by each component from Sklearn PCA.\n",
      " [ 0.29929968  0.16944799  0.13101929  0.12411412]\n"
     ]
    }
   ],
   "source": [
    "\n",
    "sklearn_pca = PCA(n_components=4)\n",
    "Y_sklearn = sklearn_pca.fit_transform(X)\n",
    "\n",
    "print(\n",
    "    'The percentage of total variance in the dataset explained by each',\n",
    "    'component from Sklearn PCA.\\n',\n",
    "    sklearn_pca.explained_variance_ratio_\n",
    ")"
   ]
  },
  {
   "cell_type": "code",
   "execution_count": 175,
   "metadata": {
    "collapsed": false
   },
   "outputs": [
    {
     "name": "stdout",
     "output_type": "stream",
     "text": [
      "The percentage of total variance in the dataset explained by each component from Sklearn PCA.\n",
      " [ 0.29929968  0.16944799  0.13101929]\n"
     ]
    }
   ],
   "source": [
    "sklearn_pca = PCA(n_components=3)\n",
    "Y_sklearn = sklearn_pca.fit_transform(X)\n",
    "\n",
    "print(\n",
    "    'The percentage of total variance in the dataset explained by each',\n",
    "    'component from Sklearn PCA.\\n',\n",
    "    sklearn_pca.explained_variance_ratio_\n",
    ")"
   ]
  },
  {
   "cell_type": "code",
   "execution_count": 176,
   "metadata": {
    "collapsed": false
   },
   "outputs": [
    {
     "name": "stdout",
     "output_type": "stream",
     "text": [
      "The percentage of total variance in the dataset explained by each component from Sklearn PCA.\n",
      " [ 0.29929968  0.16944799]\n"
     ]
    }
   ],
   "source": [
    "sklearn_pca = PCA(n_components=2)\n",
    "Y_sklearn = sklearn_pca.fit_transform(X)\n",
    "\n",
    "print(\n",
    "    'The percentage of total variance in the dataset explained by each',\n",
    "    'component from Sklearn PCA.\\n',\n",
    "    sklearn_pca.explained_variance_ratio_\n",
    ")"
   ]
  },
  {
   "cell_type": "code",
   "execution_count": null,
   "metadata": {
    "collapsed": true
   },
   "outputs": [],
   "source": []
  },
  {
   "cell_type": "code",
   "execution_count": null,
   "metadata": {
    "collapsed": true
   },
   "outputs": [],
   "source": []
  }
 ],
 "metadata": {
  "kernelspec": {
   "display_name": "Python 3",
   "language": "python",
   "name": "python3"
  },
  "language_info": {
   "codemirror_mode": {
    "name": "ipython",
    "version": 3
   },
   "file_extension": ".py",
   "mimetype": "text/x-python",
   "name": "python",
   "nbconvert_exporter": "python",
   "pygments_lexer": "ipython3",
   "version": "3.6.0"
  }
 },
 "nbformat": 4,
 "nbformat_minor": 2
}
